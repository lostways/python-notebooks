{
 "cells": [
  {
   "cell_type": "markdown",
   "metadata": {},
   "source": [
    "# F String Examples\n",
    "\n",
    "## Setup"
   ]
  },
  {
   "cell_type": "code",
   "execution_count": 74,
   "metadata": {},
   "outputs": [],
   "source": [
    "from dataclasses import dataclass\n",
    "import datetime\n",
    "\n",
    "\n",
    "number = 800\n",
    "floating = 100.12865746\n",
    "big_number = 44000000000\n",
    "fraction = 0.345678\n",
    "greeting = \"Hello World!\"\n",
    "today = datetime.datetime.now()\n",
    "dictionary = { \"hello\" : \"World\" }\n",
    "city = \"Anytown\"\n",
    "state = \"California\"\n",
    "country = \"USA\"\n",
    "\n",
    "@dataclass\n",
    "class User:\n",
    "    first_name: str\n",
    "    last_name: str\n",
    "\n",
    "    def __str__(self) -> str:\n",
    "        return f\"{self.first_name} {self.last_name}\"\n",
    "\n"
   ]
  },
  {
   "cell_type": "markdown",
   "metadata": {},
   "source": [
    "## Format Number"
   ]
  },
  {
   "cell_type": "code",
   "execution_count": 75,
   "metadata": {},
   "outputs": [
    {
     "name": "stdout",
     "output_type": "stream",
     "text": [
      "The number is 800\n",
      "The number is 320\n",
      "The number is 1440\n",
      "The number is 8.000000e+02\n",
      "The number is 000800\n",
      "The number is 100.13\n",
      "The number is $44,000,000,000.00\n",
      "The number is 34.57%\n"
     ]
    }
   ],
   "source": [
    "# Default\n",
    "print(f\"The number is {number}\")\n",
    "\n",
    "# Hex\n",
    "print(f\"The number is {number:x}\")\n",
    "\n",
    "# Octal\n",
    "print(f\"The number is {number:o}\")\n",
    "\n",
    "# Scientific\n",
    "print(f\"The number is {number:e}\")\n",
    "\n",
    "# Padding\n",
    "print(f\"The number is {number:06}\")\n",
    "\n",
    "# Float Decimal Places\n",
    "print(f\"The number is {floating:.2f}\")\n",
    "\n",
    "# Seperate Thousands\n",
    "print(f\"The number is ${big_number:,.2f}\")\n",
    "\n",
    "# Percentage\n",
    "print(f\"The number is {fraction:.2%}\")"
   ]
  },
  {
   "cell_type": "markdown",
   "metadata": {},
   "source": [
    "## Format Output"
   ]
  },
  {
   "cell_type": "code",
   "execution_count": 76,
   "metadata": {},
   "outputs": [
    {
     "name": "stdout",
     "output_type": "stream",
     "text": [
      "The number is      5\n",
      "The number is      6\n",
      "The number is      7\n",
      "The number is      8\n",
      "The number is      9\n",
      "The number is     10\n",
      "The number is     11\n",
      "The number is     12\n",
      "The number is     13\n",
      "The number is     14\n",
      "                    Hello World!\n",
      "          Hello World!          \n",
      "Hello World!                    \n",
      "__________Hello World!__________\n",
      "'Hello World!'\n"
     ]
    }
   ],
   "source": [
    "# Numbers\n",
    "for number in range(5,15):\n",
    "    print(f\"The number is {number:6}\")\n",
    "\n",
    "# Strings (Aligned to Right: Number of Space + Text Length)\n",
    "print(f\"{greeting:>32}\")\n",
    "\n",
    "# Strings (Alligned to Center)\n",
    "print(f\"{greeting:^32}\")\n",
    "\n",
    "# Strings (Alligned to Left)\n",
    "print(f\"{greeting:<32}\")\n",
    "\n",
    "# Strings (Alligned to Center With Padding Char)\n",
    "print(f\"{greeting:_^32}\")\n",
    "\n",
    "# Strings (Repr)\n",
    "print(f\"{greeting!r}\")"
   ]
  },
  {
   "cell_type": "markdown",
   "metadata": {},
   "source": [
    "## Dataclasses"
   ]
  },
  {
   "cell_type": "code",
   "execution_count": 77,
   "metadata": {},
   "outputs": [
    {
     "name": "stdout",
     "output_type": "stream",
     "text": [
      "Elon Musk\n",
      "User(first_name='Elon', last_name='Musk')\n"
     ]
    }
   ],
   "source": [
    "user = User(\"Elon\", \"Musk\")\n",
    "\n",
    "# Print Class\n",
    "print(f\"{user}\")\n",
    "\n",
    "# Print Class (Force Repr)\n",
    "print(f\"{user!r}\")"
   ]
  },
  {
   "cell_type": "markdown",
   "metadata": {},
   "source": [
    "## Datetime"
   ]
  },
  {
   "cell_type": "code",
   "execution_count": 78,
   "metadata": {},
   "outputs": [
    {
     "name": "stdout",
     "output_type": "stream",
     "text": [
      "2022-09-13 22:15:13.792675\n",
      "22:15:13.792675\n",
      "22:15:13\n",
      "2022-09-13\n",
      "09/13/22\n",
      "Tuesday\n",
      "Tuesday, September 13 2022\n",
      "09/13/22 22:15:13\n"
     ]
    }
   ],
   "source": [
    "# Print Today\n",
    "print(f\"{today}\")\n",
    "\n",
    "# Print Tinme\n",
    "print(f\"{today:%H:%M:%S.%f}\")\n",
    "\n",
    "# Print Tinme (Shortcut)\n",
    "print(f\"{today:%T}\")\n",
    "\n",
    "# Print Date\n",
    "print(f\"{today:%Y-%m-%d}\")\n",
    "\n",
    "# Print Date (Shortcut)\n",
    "print(f\"{today:%D}\")\n",
    "\n",
    "# Print Day of Week\n",
    "print(f\"{today:%A}\")\n",
    "\n",
    "# Print Friendly Date\n",
    "print(f\"{today:%A, %B %d %Y}\")\n",
    "\n",
    "# Print Based on Locale\n",
    "print(f\"{today:%x %X}\")"
   ]
  },
  {
   "cell_type": "markdown",
   "metadata": {},
   "source": [
    "## Interpolation"
   ]
  },
  {
   "cell_type": "code",
   "execution_count": 79,
   "metadata": {},
   "outputs": [
    {
     "name": "stdout",
     "output_type": "stream",
     "text": [
      "{{\"double braces\"}}\n",
      "World\n"
     ]
    }
   ],
   "source": [
    "# Printing Braces and Quotes\n",
    "print(f'{{{{\"double braces\"}}}}')\n",
    "\n",
    "# Printing Dictionaries With Quotes\n",
    "print(f\"{dictionary['hello']}\")"
   ]
  },
  {
   "cell_type": "markdown",
   "metadata": {},
   "source": [
    "## Debug Output"
   ]
  },
  {
   "cell_type": "code",
   "execution_count": 80,
   "metadata": {},
   "outputs": [
    {
     "name": "stdout",
     "output_type": "stream",
     "text": [
      "number=14 greeting='Hello World!'\n"
     ]
    }
   ],
   "source": [
    "# Printing Variables\n",
    "print(f\"{number=} {greeting=}\")"
   ]
  },
  {
   "cell_type": "markdown",
   "metadata": {},
   "source": [
    "## Multiline Strings"
   ]
  },
  {
   "cell_type": "code",
   "execution_count": 81,
   "metadata": {},
   "outputs": [
    {
     "name": "stdout",
     "output_type": "stream",
     "text": [
      "My country is USA. My state is California. My city is Anytown.\n"
     ]
    }
   ],
   "source": [
    "# Multiline F-Strings\n",
    "location_string = (\n",
    "    f\"My country is {country}. \"\n",
    "    f\"My state is {state}. \"\n",
    "    f\"My city is {city}.\"\n",
    ")\n",
    "print (location_string)"
   ]
  },
  {
   "cell_type": "code",
   "execution_count": null,
   "metadata": {},
   "outputs": [],
   "source": []
  }
 ],
 "metadata": {
  "kernelspec": {
   "display_name": "Python 3.10.2 64-bit ('3.10.2')",
   "language": "python",
   "name": "python3"
  },
  "language_info": {
   "codemirror_mode": {
    "name": "ipython",
    "version": 3
   },
   "file_extension": ".py",
   "mimetype": "text/x-python",
   "name": "python",
   "nbconvert_exporter": "python",
   "pygments_lexer": "ipython3",
   "version": "3.10.2"
  },
  "orig_nbformat": 4,
  "vscode": {
   "interpreter": {
    "hash": "e0bb99c9ab44628b72ca0e57f290ecf65996c56b736b1fda76b2b3ab26017e6d"
   }
  }
 },
 "nbformat": 4,
 "nbformat_minor": 2
}
