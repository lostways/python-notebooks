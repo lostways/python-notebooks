{
 "cells": [
  {
   "cell_type": "markdown",
   "metadata": {},
   "source": [
    "# Async Examples"
   ]
  },
  {
   "cell_type": "markdown",
   "metadata": {},
   "source": [
    "## Generator"
   ]
  },
  {
   "cell_type": "code",
   "execution_count": 6,
   "metadata": {},
   "outputs": [],
   "source": [
    "# Fibonacci Function\n",
    "def fibonacci():\n",
    "    current, next = 0, 1\n",
    "    while True:\n",
    "        yield current\n",
    "        current, next = next, current + next"
   ]
  },
  {
   "cell_type": "code",
   "execution_count": 15,
   "metadata": {},
   "outputs": [
    {
     "name": "stdout",
     "output_type": "stream",
     "text": [
      "fibonacci is a <generator object fibonacci at 0x1120363c0>\n",
      "0,1,1,2,3,5,8,13,21,34,"
     ]
    }
   ],
   "source": [
    "# Fibonacci returns a generator\n",
    "f = fibonacci()\n",
    "print(f\"fibonacci is a {f}\")\n",
    "\n",
    "# This object is an iternator that will halt execution and return the yield statement on each interation\n",
    "for _ in range(10):\n",
    "    n = next(f)\n",
    "    print(f\"{n}\",end=\",\")"
   ]
  },
  {
   "cell_type": "markdown",
   "metadata": {},
   "source": [
    "## Async Co-Routines"
   ]
  },
  {
   "cell_type": "markdown",
   "metadata": {},
   "source": [
    "### Setup"
   ]
  },
  {
   "cell_type": "code",
   "execution_count": 24,
   "metadata": {},
   "outputs": [],
   "source": [
    "# Async HTTP Request\n",
    "import asyncio\n",
    "import httpx\n",
    "import time\n",
    "\n",
    "PM_API_URL = \"https://pokeapi.co/api/v2/pokemon\""
   ]
  },
  {
   "cell_type": "markdown",
   "metadata": {},
   "source": [
    "### Sync Version"
   ]
  },
  {
   "cell_type": "code",
   "execution_count": 25,
   "metadata": {},
   "outputs": [
    {
     "name": "stdout",
     "output_type": "stream",
     "text": [
      "bulbasaur,ivysaur,venusaur,charmander,charmeleon,charizard,squirtle,wartortle,blastoise,caterpie,metapod,butterfree,weedle,kakuna,beedrill,pidgey,pidgeotto,pidgeot,rattata,raticate,spearow,fearow,ekans,arbok,pikachu,raichu,sandshrew,sandslash,nidoran-f,nidorina,nidoqueen,nidoran-m,nidorino,nidoking,clefairy,clefable,vulpix,ninetales,jigglypuff,wigglytuff,zubat,golbat,oddish,gloom,vileplume,paras,parasect,venonat,venomoth,\n",
      "--- 1.6132087707519531 seconds ------\n"
     ]
    }
   ],
   "source": [
    "\n",
    "def print_pokemons(number: int) -> None:\n",
    "    client = httpx.Client()\n",
    "    for id in range(1,number):\n",
    "        request_url = f\"{PM_API_URL}/{id}\"\n",
    "        response = client.get(request_url)\n",
    "        pokemon = response.json()\n",
    "        print(pokemon['name'], end=\",\")\n",
    "\n",
    "start_time = time.time()\n",
    "\n",
    "print_pokemons(50)\n",
    "\n",
    "duration = time.time() - start_time\n",
    "print(f\"\\n--- {duration} seconds ------\")"
   ]
  },
  {
   "cell_type": "markdown",
   "metadata": {},
   "source": [
    "### Async Version"
   ]
  },
  {
   "cell_type": "code",
   "execution_count": 31,
   "metadata": {},
   "outputs": [
    {
     "name": "stdout",
     "output_type": "stream",
     "text": [
      "bulbasaur,ivysaur,venusaur,charmander,charmeleon,charizard,squirtle,wartortle,blastoise,caterpie,metapod,butterfree,weedle,kakuna,beedrill,pidgey,pidgeotto,pidgeot,rattata,raticate,spearow,fearow,ekans,arbok,pikachu,raichu,sandshrew,sandslash,nidoran-f,nidorina,nidoqueen,nidoran-m,nidorino,nidoking,clefairy,clefable,vulpix,ninetales,jigglypuff,wigglytuff,zubat,golbat,oddish,gloom,vileplume,paras,parasect,venonat,venomoth,\n",
      "--- 1.247795820236206 seconds ------\n"
     ]
    }
   ],
   "source": [
    "# calls client.get() and then returns control to the event loop\n",
    "async def print_pokemons(number: int) -> None:\n",
    "\n",
    "    async with httpx.AsyncClient() as client:\n",
    "        for id in range(1,number):\n",
    "            request_url = f\"{PM_API_URL}/{id}\"\n",
    "            response = await client.get(request_url)\n",
    "            pokemon = response.json()\n",
    "            print(pokemon['name'], end=\",\")\n",
    "\n",
    "start_time = time.time()\n",
    "\n",
    "#asyncio.run(print_pokemons(50)) <----- if not in Jupyter Notebook\n",
    "await print_pokemons(50)\n",
    "\n",
    "duration = time.time() - start_time\n",
    "print(f\"\\n--- {duration} seconds ------\")\n",
    "\n"
   ]
  },
  {
   "cell_type": "markdown",
   "metadata": {},
   "source": [
    "### Async Tasks Version"
   ]
  },
  {
   "cell_type": "code",
   "execution_count": 32,
   "metadata": {},
   "outputs": [
    {
     "name": "stdout",
     "output_type": "stream",
     "text": [
      "bulbasaur,ivysaur,venusaur,charmander,charmeleon,charizard,squirtle,wartortle,blastoise,caterpie,metapod,butterfree,weedle,kakuna,beedrill,pidgey,pidgeotto,pidgeot,rattata,raticate,spearow,fearow,ekans,arbok,pikachu,raichu,sandshrew,sandslash,nidoran-f,nidorina,nidoqueen,nidoran-m,nidorino,nidoking,clefairy,clefable,vulpix,ninetales,jigglypuff,wigglytuff,zubat,golbat,oddish,gloom,vileplume,paras,parasect,venonat,venomoth,\n",
      "--- 0.4644510746002197 seconds ------\n"
     ]
    }
   ],
   "source": [
    "# asyncronous co-routine for getting a pokemon. This will become a task.\n",
    "async def get_ppokemon(client: httpx.AsyncClient, id: int)  -> str:\n",
    "    response = await client.get(f\"{PM_API_URL}/{id}\")\n",
    "    pokemon = response.json()\n",
    "    return pokemon[\"name\"]\n",
    "\n",
    "# creates a list of tasks to run and gathers the results using asyncio.\n",
    "async def print_pokemons(number: int) -> None:\n",
    "\n",
    "    async with httpx.AsyncClient() as client:\n",
    "        tasks = []\n",
    "        for id in range(1,number):\n",
    "            tasks.append(get_ppokemon(client,id))\n",
    "        \n",
    "        all_pokemon = await asyncio.gather(*tasks)\n",
    "        for pokemon in all_pokemon:\n",
    "            print(pokemon,end=\",\")\n",
    "\n",
    "start_time = time.time()\n",
    "\n",
    "#asyncio.run(print_pokemons(50)) <----- if not in Jupyter Notebook\n",
    "await print_pokemons(50)\n",
    "\n",
    "duration = time.time() - start_time\n",
    "print(f\"\\n--- {duration} seconds ------\")"
   ]
  }
 ],
 "metadata": {
  "kernelspec": {
   "display_name": "Python 3.9.7 ('.venv': venv)",
   "language": "python",
   "name": "python3"
  },
  "language_info": {
   "codemirror_mode": {
    "name": "ipython",
    "version": 3
   },
   "file_extension": ".py",
   "mimetype": "text/x-python",
   "name": "python",
   "nbconvert_exporter": "python",
   "pygments_lexer": "ipython3",
   "version": "3.9.7"
  },
  "orig_nbformat": 4,
  "vscode": {
   "interpreter": {
    "hash": "58041aeb839db19b1845e433aff0eba12ae22ce0ebea3b0da5524ed1f8e68a0f"
   }
  }
 },
 "nbformat": 4,
 "nbformat_minor": 2
}
